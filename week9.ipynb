{
 "cells": [
  {
   "cell_type": "code",
   "execution_count": null,
   "metadata": {
    "id": "5wxo4l7_qd8y"
   },
   "outputs": [],
   "source": [
    "import pandas as pd\n",
    "from scipy.stats import chi2_contingency\n",
    "df = pd.read_csv('your_dataset.csv')\n",
    "diabetes\n",
    "observed_data = pd.crosstab(index=df['Outcome'], columns=\"count\")\n",
    "chi2, p, _, _ = chi2_contingency(observed_data)\n",
    "alpha = 0.05\n",
    "if p < alpha:\n",
    " print(\"The class distributions are not similar (reject the null hypothesis).\")\n",
    "else:\n",
    " print(\"The class distributions are similar (fail to reject the null hypothesis).\")\n",
    "print(f\"Chi-squared statistic: {chi2}\")\n",
    "print(f\"P-value: {p}\")\n"
   ]
  },
  {
   "cell_type": "markdown",
   "metadata": {
    "id": "2phebXDRqhLW"
   },
   "source": []
  }
 ],
 "metadata": {
  "colab": {
   "provenance": []
  },
  "kernelspec": {
   "display_name": "Python 3 (ipykernel)",
   "language": "python",
   "name": "python3"
  },
  "language_info": {
   "codemirror_mode": {
    "name": "ipython",
    "version": 3
   },
   "file_extension": ".py",
   "mimetype": "text/x-python",
   "name": "python",
   "nbconvert_exporter": "python",
   "pygments_lexer": "ipython3",
   "version": "3.9.13"
  }
 },
 "nbformat": 4,
 "nbformat_minor": 1
}
